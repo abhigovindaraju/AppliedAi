{
 "cells": [
  {
   "cell_type": "code",
   "execution_count": 7,
   "id": "c680c1c4",
   "metadata": {},
   "outputs": [
    {
     "name": "stdout",
     "output_type": "stream",
     "text": [
      "0.24766380113907163\n",
      "0.7523361988609284\n",
      "4.5397868702434395e-05\n",
      "0.9999546021312976\n",
      "0.3775406687981454\n",
      "0.6224593312018545\n"
     ]
    }
   ],
   "source": [
    "import math\n",
    "\n",
    "def cal_softmax(a, b, t):\n",
    "    return math.exp(a / t) / (math.exp(a / t) + math.exp(b / t))\n",
    "\n",
    "print(cal_softmax(1, 2, 0.9))\n",
    "print(cal_softmax(2, 1, 0.9))\n",
    "\n",
    "print(cal_softmax(1, 2, 0.1))\n",
    "print(cal_softmax(2, 1, 0.1))\n",
    "\n",
    "print(cal_softmax(1, 2, 2))\n",
    "print(cal_softmax(2, 1, 2))"
   ]
  }
 ],
 "metadata": {
  "kernelspec": {
   "display_name": "Python 3",
   "language": "python",
   "name": "python3"
  },
  "language_info": {
   "codemirror_mode": {
    "name": "ipython",
    "version": 3
   },
   "file_extension": ".py",
   "mimetype": "text/x-python",
   "name": "python",
   "nbconvert_exporter": "python",
   "pygments_lexer": "ipython3",
   "version": "3.9.6"
  }
 },
 "nbformat": 4,
 "nbformat_minor": 5
}
